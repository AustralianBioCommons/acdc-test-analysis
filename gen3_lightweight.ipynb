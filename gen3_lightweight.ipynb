{
 "cells": [
  {
   "cell_type": "markdown",
   "metadata": {},
   "source": [
    "# Gen3 Test Analysis\n",
    "The purpose of this notebook is to:\n",
    "1. Use gen3 api key to pull clinical data / metadata\n",
    "1. Pull data files\n",
    "1. Parse metadata to dataframe\n",
    "1. Create graph with basic stats\n",
    "1. Run samtools on basic bam file"
   ]
  },
  {
   "cell_type": "code",
   "execution_count": 2,
   "metadata": {},
   "outputs": [
    {
     "name": "stderr",
     "output_type": "stream",
     "text": [
      "fatal: destination path 'gen3-metadata' already exists and is not an empty directory.\n"
     ]
    },
    {
     "name": "stdout",
     "output_type": "stream",
     "text": [
      "Requirement already satisfied: requests in ./.venv/lib/python3.9/site-packages (from -r gen3-metadata/requirements.txt (line 1)) (2.32.3)\n",
      "Requirement already satisfied: pandas in ./.venv/lib/python3.9/site-packages (from -r gen3-metadata/requirements.txt (line 2)) (2.2.3)\n",
      "Requirement already satisfied: setuptools in ./.venv/lib/python3.9/site-packages (from -r gen3-metadata/requirements.txt (line 3)) (56.0.0)\n",
      "Requirement already satisfied: charset-normalizer<4,>=2 in ./.venv/lib/python3.9/site-packages (from requests->-r gen3-metadata/requirements.txt (line 1)) (3.4.1)\n",
      "Requirement already satisfied: idna<4,>=2.5 in ./.venv/lib/python3.9/site-packages (from requests->-r gen3-metadata/requirements.txt (line 1)) (3.10)\n",
      "Requirement already satisfied: certifi>=2017.4.17 in ./.venv/lib/python3.9/site-packages (from requests->-r gen3-metadata/requirements.txt (line 1)) (2025.1.31)\n",
      "Requirement already satisfied: urllib3<3,>=1.21.1 in ./.venv/lib/python3.9/site-packages (from requests->-r gen3-metadata/requirements.txt (line 1)) (2.3.0)\n",
      "Requirement already satisfied: pytz>=2020.1 in ./.venv/lib/python3.9/site-packages (from pandas->-r gen3-metadata/requirements.txt (line 2)) (2025.1)\n",
      "Requirement already satisfied: tzdata>=2022.7 in ./.venv/lib/python3.9/site-packages (from pandas->-r gen3-metadata/requirements.txt (line 2)) (2025.1)\n",
      "Requirement already satisfied: numpy>=1.22.4 in ./.venv/lib/python3.9/site-packages (from pandas->-r gen3-metadata/requirements.txt (line 2)) (2.0.2)\n",
      "Requirement already satisfied: python-dateutil>=2.8.2 in ./.venv/lib/python3.9/site-packages (from pandas->-r gen3-metadata/requirements.txt (line 2)) (2.9.0.post0)\n",
      "Requirement already satisfied: six>=1.5 in ./.venv/lib/python3.9/site-packages (from python-dateutil>=2.8.2->pandas->-r gen3-metadata/requirements.txt (line 2)) (1.17.0)\n"
     ]
    },
    {
     "name": "stderr",
     "output_type": "stream",
     "text": [
      "WARNING: You are using pip version 21.1.1; however, version 25.0.1 is available.\n",
      "You should consider upgrading via the '/Users/harrijh/projects/acdc-test-analysis/.venv/bin/python3 -m pip install --upgrade pip' command.\n"
     ]
    }
   ],
   "source": [
    "%%bash\n",
    "git clone https://github.com/AustralianBioCommons/gen3-metadata.git\n",
    "pip install -r gen3-metadata/requirements.txt"
   ]
  },
  {
   "cell_type": "code",
   "execution_count": 3,
   "metadata": {},
   "outputs": [
    {
     "name": "stdout",
     "output_type": "stream",
     "text": [
      "['/Users/harrijh/.pyenv/versions/3.9.5/lib/python39.zip', '/Users/harrijh/.pyenv/versions/3.9.5/lib/python3.9', '/Users/harrijh/.pyenv/versions/3.9.5/lib/python3.9/lib-dynload', '', '/Users/harrijh/projects/acdc-test-analysis/.venv/lib/python3.9/site-packages', 'gen3-metadata/src']\n"
     ]
    }
   ],
   "source": [
    "import sys\n",
    "import os\n",
    "\n",
    "# Add the path to the cloned repository\n",
    "repo_path = \"gen3-metadata/src\"\n",
    "sys.path.append(repo_path)\n",
    "\n",
    "# Verify that the path is added\n",
    "print(sys.path)"
   ]
  },
  {
   "cell_type": "code",
   "execution_count": 4,
   "metadata": {},
   "outputs": [],
   "source": [
    "from gen3_metadata.parser import Gen3MetadataParser"
   ]
  },
  {
   "cell_type": "code",
   "execution_count": 5,
   "metadata": {},
   "outputs": [
    {
     "name": "stdout",
     "output_type": "stream",
     "text": [
      "status code: 200\n",
      "Data for program1/AusDiab_Simulated/subject has been fetched and stored.\n",
      "status code: 200\n",
      "Data for program1/AusDiab_Simulated/demographic has been fetched and stored.\n",
      "status code: 200\n",
      "Data for program1/AusDiab_Simulated/medical_history has been fetched and stored.\n",
      "Converting program1/AusDiab_Simulated/subject to pandas dataframe...\n",
      "Converting program1/AusDiab_Simulated/demographic to pandas dataframe...\n",
      "Converting program1/AusDiab_Simulated/medical_history to pandas dataframe...\n"
     ]
    }
   ],
   "source": [
    "import os\n",
    "from gen3_metadata.parser import Gen3MetadataParser\n",
    "\n",
    "api = \"https://data.test.biocommons.org.au\"\n",
    "key_file = os.getenv('API_PATH')\n",
    "gen3metadata = Gen3MetadataParser(api, key_file)\n",
    "\n",
    "\n",
    "gen3metadata.fetch_data(\"program1\", \"AusDiab_Simulated\", \"subject\")\n",
    "gen3metadata.fetch_data(\"program1\", \"AusDiab_Simulated\", \"demographic\")\n",
    "gen3metadata.fetch_data(\"program1\", \"AusDiab_Simulated\", \"medical_history\")\n",
    "\n",
    "gen3metadata.data_to_pd()"
   ]
  }
 ],
 "metadata": {
  "kernelspec": {
   "display_name": ".venv",
   "language": "python",
   "name": "python3"
  },
  "language_info": {
   "codemirror_mode": {
    "name": "ipython",
    "version": 3
   },
   "file_extension": ".py",
   "mimetype": "text/x-python",
   "name": "python",
   "nbconvert_exporter": "python",
   "pygments_lexer": "ipython3",
   "version": "3.9.5"
  }
 },
 "nbformat": 4,
 "nbformat_minor": 2
}
